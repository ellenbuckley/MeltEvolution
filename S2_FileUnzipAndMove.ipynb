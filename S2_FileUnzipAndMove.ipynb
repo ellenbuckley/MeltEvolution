{
 "cells": [
  {
   "cell_type": "markdown",
   "id": "82136d13",
   "metadata": {},
   "source": [
    "# Sentinel-2 File Unzip And Management\n",
    "\n",
    "This program takes the downloaded Sentinel-2 imagery and unzips the files programmatically based on the file naming conventions."
   ]
  },
  {
   "cell_type": "code",
   "execution_count": 1,
   "id": "0cbd1924",
   "metadata": {},
   "outputs": [],
   "source": [
    "import os\n",
    "import shutil"
   ]
  },
  {
   "cell_type": "markdown",
   "id": "dbb52895",
   "metadata": {},
   "source": [
    "## Unzipping files\n",
    "\n",
    "The first section of this script deals with unzipping the files. Later on, additional processes will organize the images into directories specific to the bands necessary to make Melt Pond classification. "
   ]
  },
  {
   "cell_type": "code",
   "execution_count": null,
   "id": "4bef8de7",
   "metadata": {
    "tags": []
   },
   "outputs": [],
   "source": [
    "import zipfile\n",
    "\n",
    "S2_path = 'ENTER THE FULL DIRECTORY PATH OF YOUR ZIPPED FILES'\n",
    "for a in os.listdir(S2_path)[3:]:\n",
    "    # The first portion of this loop looks for files which have been unzipped. Fully unpacked files are written to \n",
    "    # a new directory that ends with '.SAFE'. \n",
    "    if a.endswith('.zip'):\n",
    "        a2= a[:-3]+'SAFE'\n",
    "        if os.path.exists(S2_path+a2):\n",
    "            pass\n",
    "        else:\n",
    "            with zipfile.ZipFile(S2_path+a, 'r') as zip_ref:\n",
    "                zip_ref.extractall(S2_path)"
   ]
  },
  {
   "cell_type": "markdown",
   "id": "11e7400b",
   "metadata": {},
   "source": [
    "# Managing Bands/Files\n",
    "\n",
    "This portion of the script manages the specific files we need to run the classification as well as the additional True Color Image (TCI) complex. The classification requires bands 2, 3, 4, and 8 (Red, Blue Green, and NIR). The TCI is included for validation purposes and utility scripts are provided to make appropriate mosaics and georefferencing (check GitHub assets).\n",
    "\n",
    "First, we check to see if band directories have been created, otherwise the program will create the directories necessary for images to be sent to appropriate locations."
   ]
  },
  {
   "cell_type": "code",
   "execution_count": null,
   "id": "7c4d0167",
   "metadata": {},
   "outputs": [],
   "source": [
    "band_list = ['B02', 'B03', 'B04', 'B08', 'TCI']\n",
    "\n",
    "for a in band_list:\n",
    "    BandFolder = os.path.join(S2_path, a)\n",
    "    #Skips directory creation if directories already exist\n",
    "    if os.path.exists(BandFolder):\n",
    "        pass\n",
    "    #Creates directories if they don't already exist\n",
    "    else:\n",
    "        print('Directory does not exist, \"' + a + '\" will be created')\n",
    "        BandDirec = os.path.join(S2_path, BandFolder)\n",
    "        os.makedirs(BandDirec)"
   ]
  },
  {
   "cell_type": "markdown",
   "id": "b9107bbb",
   "metadata": {},
   "source": [
    "In this portion, *'a'* is the name of the folders inside the *'S2 Path'*. The individual bands are housed in directories within directories. The program moves the necessary .jp2 band files into seperate directories. Users may wish to discard the remaining *'.SAFE'* files but are encouraged to make back-ups in case they need to use other bands."
   ]
  },
  {
   "cell_type": "code",
   "execution_count": null,
   "id": "cedb19a6",
   "metadata": {},
   "outputs": [],
   "source": [
    "for a in [a for a in os.listdir(S2_path) if a.endswith('.SAFE')]:\n",
    "    fol=os.listdir(S2_path+a+'/GRANULE/')[-1]\n",
    "    for d in ['B02','B03','B04','B08', 'TCI']:\n",
    "        if len([b for b in os.listdir(S2_path+a+'/GRANULE/'+fol+'/IMG_DATA/') if b.endswith(d+'.jp2')])>0:\n",
    "            c=[b for b in os.listdir(S2_path+a+'/GRANULE/'+fol+'/IMG_DATA/') if b.endswith(d+'.jp2')][0]\n",
    "            if (os.path.exists(S2_path+d+'/'+c)): \n",
    "                pass\n",
    "            else:\n",
    "                shutil.move(S2_path+a+'/GRANULE/'+fol+'/IMG_DATA/'+c,S2_path+d+'/')\n",
    "        "
   ]
  }
 ],
 "metadata": {
  "kernelspec": {
   "display_name": "Python 3 (ipykernel)",
   "language": "python",
   "name": "python3"
  },
  "language_info": {
   "codemirror_mode": {
    "name": "ipython",
    "version": 3
   },
   "file_extension": ".py",
   "mimetype": "text/x-python",
   "name": "python",
   "nbconvert_exporter": "python",
   "pygments_lexer": "ipython3",
   "version": "3.9.12"
  }
 },
 "nbformat": 4,
 "nbformat_minor": 5
}
