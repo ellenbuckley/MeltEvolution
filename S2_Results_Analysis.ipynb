{
 "cells": [
  {
   "cell_type": "markdown",
   "id": "6296f909",
   "metadata": {},
   "source": [
    "# Sentinel-2 Classification Results Analysis\n",
    "\n",
    "## Exporting Computed Parameters\n",
    "\n",
    "This program takes the .txt outputs from the classification script to summarize and characterize numerical results. The program provides the necessary computations as well as the ability to export results into a .csv file. "
   ]
  },
  {
   "cell_type": "code",
   "execution_count": 4,
   "id": "f0664fc6-d4bc-49f8-b93a-0cd46cac1c8f",
   "metadata": {},
   "outputs": [],
   "source": [
    "import rasterio\n",
    "from rasterio import mask\n",
    "from pylab import *\n",
    "import numpy as np\n",
    "import sys, os\n",
    "import pandas as pd\n",
    "import h5py\n",
    "from PIL import Image\n",
    "import csv"
   ]
  },
  {
   "cell_type": "code",
   "execution_count": 5,
   "id": "f37fb9b9-b75e-461b-a134-74f15ad7e284",
   "metadata": {},
   "outputs": [],
   "source": [
    "output_loc= 'CHANGE PATH HERE'# The text file where the output is saved from the classification script\n",
    "df2=pd.read_csv(output_loc, delimiter='\\t',names=['tile','im','border','ice','ow','mp','other'])\n",
    "\n",
    "# Calculate Melt Pond Fraction (MPF) and Sea Ice Concentration (SIC)\n",
    "df2['mpf']=df2.mp/(df2.mp+df2.ice)\n",
    "df2['sic']=(df2.ice+df2.mp)/(df2.ice+df2.mp+df2.ow)\n",
    "df2['surface']=(df2.im)-(df2.border)\n",
    "\n",
    "# Don't calculate MPF for tiles with SIC less than 15%, turn to nan\n",
    "for b in df2[df2.sic<.15].index.values:\n",
    "    df2.at[b,'mpf']=np.nan\n",
    "    \n",
    "# Day of year is extracted based on the filename conventions\n",
    "df2['doy']=[datetime.datetime.strptime(a,'%Y%m%d').timetuple().tm_yday for a in [a[7:15] for a in df2.tile]]\n",
    "\n",
    "# Save to new csv\n",
    "csv_loc='NAME OF CSV FILE HERE' # The location you want to save the csv\n",
    "df2.to_csv(csv_loc)"
   ]
  },
  {
   "cell_type": "markdown",
   "id": "1a26a2f1",
   "metadata": {},
   "source": [
    "## Metric Trends\n",
    "\n",
    "The following cell allows users to generate boxplots of the computed metrics. Users may adjust and append parameters to their needs."
   ]
  },
  {
   "cell_type": "code",
   "execution_count": 8,
   "id": "86bfdd3f-2b30-4a20-9fc8-7464038a4af2",
   "metadata": {},
   "outputs": [
    {
     "data": {
      "image/png": "[encoded data removed]",
      "text/plain": [
       "<Figure size 720x360 with 1 Axes>"
      ]
     },
     "metadata": {
      "needs_background": "light"
     },
     "output_type": "display_data"
    }
   ],
   "source": [
    "fig, ax = plt.subplots(1,1,figsize=(10,5))\n",
    "med=[]\n",
    "mean=[]\n",
    "count=[]\n",
    "std=[]\n",
    "p75=[]\n",
    "p25=[]\n",
    "x=[]\n",
    "\n",
    "\n",
    "medianprops = dict(linestyle='-', linewidth=3, color='firebrick')\n",
    "#d=plt.scatter(1000,1000,c='k',s=10,label='5 day MPF mean')\n",
    "boxprops=dict(facecolor=\"None\")\n",
    "\n",
    "for a in np.arange(152,244):\n",
    "    if len(df[(df.doy> (a-2))&(df.doy< (a+2))])>20:\n",
    "        x.append(a)       \n",
    "        med.append(df[(df.doy> (a-2))&(df.doy< (a+2))]['mpf'].median()*100)\n",
    "        mean.append(df[(df.doy> (a-2))&(df.doy< (a+2))]['mpf'].mean()*100)\n",
    "        count.append(len(df[(df.doy> (a-2))&(df.doy< (a+2))]['mpf']))\n",
    "        std.append(df[(df.doy> (a-2))&(df.doy< (a+2))]['mpf'].std()*100)\n",
    "        p75.append(np.percentile(df[(df.doy> (a-2))&(df.doy< (a+2))]['mpf']*100,75))\n",
    "        p25.append(np.percentile(df[(df.doy> (a-2))&(df.doy< (a+2))]['mpf']*100,25))\n",
    "        b= plt.boxplot(df[(df.doy> (a-2))&(df.doy< (a+2))]['mpf'].values*100, positions=[a], widths=[0.7],whis=False, showfliers=False,patch_artist=True,medianprops=medianprops, boxprops=boxprops,zorder=3)\n",
    "        #ax[1].text(a-.5,p75[-1]+2,str(count[-1]),rotation='vertical',fontweight='bold')\n",
    "\n",
    "for a in np.arange(244,273):\n",
    "    if len(df2[(df2.doy> (a-2))&(df2.doy< (a+2))])>20:\n",
    "        x.append(a)       \n",
    "        med.append(df2[(df2.doy> (a-2))&(df2.doy< (a+2))]['mpf'].median()*100)\n",
    "        mean.append(df2[(df2.doy> (a-2))&(df2.doy< (a+2))]['mpf'].mean()*100)\n",
    "        count.append(len(df2[(df2.doy> (a-2))&(df2.doy< (a+2))]['mpf']))\n",
    "        std.append(df2[(df2.doy> (a-2))&(df2.doy< (a+2))]['mpf'].std()*100)\n",
    "        p75.append(np.percentile(df2[(df2.doy> (a-2))&(df2.doy< (a+2))]['mpf']*100,75))\n",
    "        p25.append(np.percentile(df2[(df2.doy> (a-2))&(df2.doy< (a+2))]['mpf']*100,25))\n",
    "        b= plt.boxplot(df2[(df2.doy> (a-2))&(df2.doy< (a+2))]['mpf'].values*100, positions=[a], widths=[0.7],whis=False, showfliers=False,patch_artist=True,medianprops=medianprops, boxprops=boxprops,zorder=3)\n",
    "        #ax[1].text(a-.5,p75[-1]+2,str(count[-1]),rotation='vertical',fontweight='bold')\n",
    "        \n",
    "        \n",
    "ax.set_ylabel('MPF (%)',fontsize=16)\n",
    "ax.xaxis.set_tick_params(labeltop=False,labelbottom=True)\n",
    "ax.set_ylim(-1,30)\n",
    "ax.set_xlim(152,273)\n",
    "\n",
    "plt.xticks([152,167,183,197,214,229,244,258,273],['1 June','15 June','1 July','15 July', '1 August', '15 August','August 30', 'September 15','September 30']);"
   ]
  }
 ],
 "metadata": {
  "kernelspec": {
   "display_name": "Python 3 (ipykernel)",
   "language": "python",
   "name": "python3"
  },
  "language_info": {
   "codemirror_mode": {
    "name": "ipython",
    "version": 3
   },
   "file_extension": ".py",
   "mimetype": "text/x-python",
   "name": "python",
   "nbconvert_exporter": "python",
   "pygments_lexer": "ipython3",
   "version": "3.9.12"
  }
 },
 "nbformat": 4,
 "nbformat_minor": 5
}
