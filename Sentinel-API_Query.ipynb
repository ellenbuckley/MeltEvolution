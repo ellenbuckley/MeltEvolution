{
 "cells": [
  {
   "cell_type": "markdown",
   "metadata": {},
   "source": [
    "# Sentinel-API Query\n",
    "\n",
    "This is a program that retreives Sentinel-2 imagery over a defined (geojson) region. Users with shapefiles can easily convert regions to a json or geojson format. It is highly advised to generalize features and the API cannot handle shapes and regions with complex geometries such as fine-scale coastal boundaries. \n",
    "\n",
    "*Note: The API only accepts regions that are defined based on WGS 84 (EPSG:4326). Users are advised to create regions in region-specific projections and converting layers to WGS 84 in **QGIS** once finalized*."
   ]
  },
  {
   "cell_type": "code",
   "execution_count": null,
   "metadata": {},
   "outputs": [],
   "source": [
    "import os,sys\n",
    "import numpy as np"
   ]
  },
  {
   "cell_type": "code",
   "execution_count": null,
   "metadata": {},
   "outputs": [],
   "source": [
    "import tenacity\n",
    "import logging\n",
    "from sentinelsat import SentinelAPI, read_geojson, geojson_to_wkt\n",
    "from datetime import date\n",
    "\n",
    "logging.basicConfig(format='%(message)s', level='INFO')\n",
    "\n",
    "# Please enter the user-appropriate credentials\n",
    "api = SentinelAPI('USERNAME', 'PASSWORD', 'https://scihub.copernicus.eu/dhus')\n",
    "\n",
    "# File handling, this is created to ensure file downloads continue in the case of miscommunication with servers \n",
    "@tenacity.retry(stop=tenacity.stop_after_attempt(24), wait=\n",
    "                (900))\n",
    "def download_all(*args, **kwargs):\n",
    "    return api.download_all(*args, **kwargs)\n",
    "# search by polygon, time, and SciHub query keywords\n",
    "# Please make sure to specify the full path of the user-defined region\n",
    "geojson_path = 'ENTER YOUR FULL GEOJSON PATH'\n",
    "footprint = geojson_to_wkt(read_geojson(geojson_path))\n",
    "products = api.query(footprint,\n",
    "                     date=('20200901', date(2020, 9, 4)), # Note differences in date format \n",
    "                     platformname='Sentinel-2',\n",
    "                     producttype='S2MSI1C',\n",
    "                     cloudcoverpercentage=(0, 10)) # Cloud cover paramters can be changed based on user preference\n",
    "\n",
    "products_df = api.to_dataframe(products)\n",
    "downloaded, triggered, failed = download_all(products)\n"
   ]
  }
 ],
 "metadata": {
  "kernelspec": {
   "display_name": "Python 3",
   "language": "python",
   "name": "python3"
  },
  "language_info": {
   "codemirror_mode": {
    "name": "ipython",
    "version": 3
   },
   "file_extension": ".py",
   "mimetype": "text/x-python",
   "name": "python",
   "nbconvert_exporter": "python",
   "pygments_lexer": "ipython3",
   "version": "3.7.0"
  }
 },
 "nbformat": 4,
 "nbformat_minor": 5
}
